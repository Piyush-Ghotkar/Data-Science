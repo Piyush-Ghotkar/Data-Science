{
 "cells": [
  {
   "cell_type": "markdown",
   "metadata": {},
   "source": [
    "# Que1"
   ]
  },
  {
   "attachments": {
    "image.png": {
     "image/png": "[encoded data removed]"
    }
   },
   "cell_type": "markdown",
   "metadata": {},
   "source": [
    "Here’s a popular social media meme. Solve the problem. Explain how you solved it.\n",
    "![image.png](attachment:image.png)\n",
    "A,B & C are different digits"
   ]
  },
  {
   "cell_type": "code",
   "execution_count": 128,
   "metadata": {},
   "outputs": [
    {
     "name": "stdout",
     "output_type": "stream",
     "text": [
      "ABC= 185\n",
      "A= 1 \n",
      "B= 8 \n",
      "C= 5\n"
     ]
    }
   ],
   "source": [
    "for i in range(1,10): # loop from 1 to 9, because C cant be zero as 'CCC' final sum can't be 000\n",
    "    if(i==(3*i)%10):  #unit digit of 3*c will be C\n",
    "        c=i\n",
    "        \n",
    "ABC=int(str(c)+str(c)+str(c))//3 # 3*ABC=CCC\n",
    "\n",
    "print(\"ABC=\",ABC)\n",
    "\n",
    "l=list(str(ABC)) #spliting ABC into list\n",
    "A=l[0]\n",
    "B=l[1]\n",
    "C=l[2]\n",
    "\n",
    "print('A=',A,'\\nB=',B,'\\nC=',C)"
   ]
  },
  {
   "cell_type": "markdown",
   "metadata": {},
   "source": [
    "#### Explaination\n",
    "From the quetion we can see that unit place of sum of 3 C's is equal to C, from the question we can see that 'CCC' can't be 000 as it would mean that A,B & C would also be 0, whereas in question it is stated that A,B & C are different digits\n",
    "\n",
    "Therfore, I applied loop from 1 to 9 for finding value of C with condition unit digit of 3*C will be C\n",
    "\n",
    "After I got the value of C, I divied CCC(i.e. 555) by 3 to get value of ABC because it given that ABC+ABC+ABC=CCC.\n",
    "So we got ABC=185, where A=1, B=8, C=5.\n",
    "\n"
   ]
  },
  {
   "cell_type": "code",
   "execution_count": null,
   "metadata": {},
   "outputs": [],
   "source": []
  },
  {
   "cell_type": "markdown",
   "metadata": {},
   "source": [
    "# Que2"
   ]
  },
  {
   "cell_type": "markdown",
   "metadata": {},
   "source": [
    "Write a python program that accepts a character and counts the number of times that\n",
    "character occurs in this list. Do not consider the case in input as well as the list :\n",
    "presidents = ['Donald Trump', 'Barack Obama', 'George Bush Jr', 'Bill Clinton ', 'George Bush\n",
    "Sr', 'Ronald Reagan', 'Jimmy Carter', 'Gerald Ford', 'Richard Nixon', 'Lyndon Johnson', 'John\n",
    "Kennedy', 'Dwight Eisenhower']"
   ]
  },
  {
   "cell_type": "code",
   "execution_count": 129,
   "metadata": {},
   "outputs": [
    {
     "name": "stdout",
     "output_type": "stream",
     "text": [
      "Enter Character to be counted = a\n",
      "a occurs in list 11 times\n"
     ]
    }
   ],
   "source": [
    "char=input(\"Enter Character to be counted = \") #taking input\n",
    "\n",
    "l= ['Donald Trump', 'Barack Obama', 'George Bush Jr', 'Bill Clinton ', 'George Bush Sr', 'Ronald Reagan', 'Jimmy Carter', 'Gerald Ford', 'Richard Nixon', 'Lyndon Johnson', 'John Kennedy', 'Dwight Eisenhower']\n",
    "\n",
    "freq=0 #intializing freq variable to 0\n",
    "for president in l:   #applying loop over list\n",
    "    freq+=president.lower().count(char.lower())  #counting occurances of given char in each value of list\n",
    "    \n",
    "print(char , \"occurs in list\",freq,\"times\")"
   ]
  },
  {
   "cell_type": "code",
   "execution_count": null,
   "metadata": {},
   "outputs": [],
   "source": []
  },
  {
   "cell_type": "markdown",
   "metadata": {},
   "source": [
    "# Que3"
   ]
  },
  {
   "cell_type": "markdown",
   "metadata": {},
   "source": [
    "Three days ago, yesterday was the day before Sunday. What day will be tomorrow?"
   ]
  },
  {
   "cell_type": "code",
   "execution_count": 130,
   "metadata": {},
   "outputs": [
    {
     "name": "stdout",
     "output_type": "stream",
     "text": [
      "Today is Wednesday \n",
      "Tomorrow is Thursday\n"
     ]
    }
   ],
   "source": [
    "day=['Sunday','Monday','Tuesday','Wednesday','Thursday','Friday','Saturday'] #list of days\n",
    "\n",
    "three_days_ago_yesterday=day.index('Sunday')-1  #finding day on 3days ago yesterday\n",
    "three_days_ago_yesterday%=7  #taking mod 7, beacaue in certain case if day is after saturday (i.e Saturday+1) it should be Sunday\n",
    "\n",
    "\n",
    "\n",
    "today=day[(three_days_ago_yesterday + 4)%7]  #adding 4 and taking mod 7 to get today\n",
    "tomorrow=day[(three_days_ago_yesterday + 5)%7]  #adding 5 and taking mod 7 to get tomorrow\n",
    "\n",
    "print(\"Today is\",today,\"\\nTomorrow is\",tomorrow)"
   ]
  },
  {
   "cell_type": "code",
   "execution_count": null,
   "metadata": {},
   "outputs": [],
   "source": []
  },
  {
   "cell_type": "markdown",
   "metadata": {},
   "source": [
    "# Que4"
   ]
  },
  {
   "cell_type": "markdown",
   "metadata": {},
   "source": [
    "Write a program to compute the intersection area and Union area of N rectangles\n",
    "(2<N<100). What is the complexity of such a program? Each rectangle is represented with\n",
    "following members : x, y, width, height"
   ]
  },
  {
   "cell_type": "code",
   "execution_count": 169,
   "metadata": {},
   "outputs": [
    {
     "name": "stdout",
     "output_type": "stream",
     "text": [
      "Enter no of rectangles 5\n",
      "4 5 30 10\n",
      "50 36 65 41\n",
      "10 12 70 70\n",
      "100 320 60 78\n",
      "90 120 47 300\n",
      "Area of Intersection= 4404 unit-square \n",
      "Area of Intersection= 23017 unit-square\n"
     ]
    }
   ],
   "source": [
    "import numpy as np\n",
    "\n",
    "n=int(input(\"Enter no of rectangles \"))  #taking input for no of rectangles\n",
    "graph=np.zeros((1000,1000))              #intializing graph of 1000*1000 to zeros we will use this graph to plot rectangles\n",
    "\n",
    "for z in range(0,n):\n",
    "    xywh=input().split(\" \")         #taking rectangle parameters & storing it in list\n",
    "    x=int(xywh[0])\n",
    "    y=int(xywh[1])\n",
    "    width=int(xywh[2])\n",
    "    height=int(xywh[3])\n",
    "    x2=x+width\n",
    "    y2=y+height\n",
    "    \n",
    "    for i in range(x,x2+1):\n",
    "        for j in range(y,y2+1):      \n",
    "            if(graph[i][j]==0):        #if value in graph at specific point is 0, then drawing rectangle by assignming 1\n",
    "                graph[i][j]=1\n",
    "            else:\n",
    "                graph[i][j]=2         #if value in graph at specific point is 1, it means certain graph is already drwan here, then we will assign 2 (intersection case)\n",
    "    \n",
    "\n",
    "intersection=np.count_nonzero(graph==2)   #counting 2's in graph to calculate intersection\n",
    "union=intersection + np.count_nonzero(graph==1)     #counting 1's and adding it to intersection to find union\n",
    " \n",
    "print(\"Area of Intersection=\",intersection,\"unit-square \\nArea of Intersection=\",union,\"unit-square\")"
   ]
  },
  {
   "cell_type": "code",
   "execution_count": 161,
   "metadata": {},
   "outputs": [
    {
     "name": "stdout",
     "output_type": "stream",
     "text": [
      "[0. 0. 0. 0. 0. 0. 0. 0. 0. 0.]\n",
      "[0. 1. 1. 1. 1. 1. 0. 0. 0. 0.]\n",
      "[0. 1. 1. 1. 1. 1. 0. 0. 0. 0.]\n",
      "[0. 1. 1. 2. 2. 2. 1. 1. 0. 0.]\n",
      "[0. 1. 1. 2. 2. 2. 1. 1. 0. 0.]\n",
      "[0. 1. 1. 2. 2. 2. 1. 1. 0. 0.]\n",
      "[0. 0. 0. 1. 1. 1. 1. 1. 0. 0.]\n",
      "[0. 0. 0. 1. 1. 1. 1. 1. 0. 0.]\n",
      "[0. 0. 0. 0. 0. 0. 0. 0. 0. 0.]\n",
      "[0. 0. 0. 0. 0. 0. 0. 0. 0. 0.]\n"
     ]
    }
   ],
   "source": [
    "#graph for 2 rectangles where\n",
    "#Rect1: x=1,y=1,weidth=4,height=4\n",
    "#Rect2: x=3,y=3,weidth=4,height=4\n",
    "\n",
    "for i in range(0,10):\n",
    "    print(graph[i])\n",
    "    \n",
    "#here graph of [10][10] is considered"
   ]
  },
  {
   "cell_type": "code",
   "execution_count": null,
   "metadata": {},
   "outputs": [],
   "source": []
  },
  {
   "cell_type": "markdown",
   "metadata": {},
   "source": [
    "# Que5"
   ]
  },
  {
   "cell_type": "markdown",
   "metadata": {},
   "source": [
    "Write a program to count number of XML files in each folder attached along with this\n",
    "question paper"
   ]
  },
  {
   "cell_type": "code",
   "execution_count": 131,
   "metadata": {
    "scrolled": false
   },
   "outputs": [
    {
     "name": "stdout",
     "output_type": "stream",
     "text": [
      "XML files in data folder= 8397\n"
     ]
    }
   ],
   "source": [
    "import os\n",
    "\n",
    "def CountFiles(folder):\n",
    "\n",
    "    count = 0   #count variable to count no of files\n",
    "    \n",
    "    for filename in os.listdir(folder):\n",
    "        path = os.path.join(folder, filename)  #joining file name with folde name to create path (eg Data/UK/...)\n",
    "        \n",
    "        if os.path.isfile(path):   #if path given is file we'll increment count variable\n",
    "            count += 1\n",
    "        else:                      #if path given is not a file (means it is another folder) we'll call CountFiles funtion again\n",
    "            count += CountFiles(path)\n",
    "\n",
    "    return count\n",
    "\n",
    "\n",
    "total_files=CountFiles('Data')    #caling CountFiles function & passing folder name as an argument\n",
    "print(\"XML files in data folder=\",total_files)"
   ]
  },
  {
   "cell_type": "code",
   "execution_count": null,
   "metadata": {},
   "outputs": [],
   "source": []
  }
 ],
 "metadata": {
  "kernelspec": {
   "display_name": "Python 3",
   "language": "python",
   "name": "python3"
  },
  "language_info": {
   "codemirror_mode": {
    "name": "ipython",
    "version": 3
   },
   "file_extension": ".py",
   "mimetype": "text/x-python",
   "name": "python",
   "nbconvert_exporter": "python",
   "pygments_lexer": "ipython3",
   "version": "3.6.5"
  }
 },
 "nbformat": 4,
 "nbformat_minor": 4
}
